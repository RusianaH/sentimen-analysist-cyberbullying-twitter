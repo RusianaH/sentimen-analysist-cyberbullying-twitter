{
 "cells": [
  {
   "cell_type": "code",
   "execution_count": 1,
   "metadata": {},
   "outputs": [],
   "source": [
    "import numpy as np\n",
    "import pandas as pd\n",
    "import csv\n",
    "import matplotlib.pyplot as plt\n",
    "from sklearn import model_selection\n",
    "from sklearn.model_selection import train_test_split\n",
    "from sklearn.feature_extraction.text import TfidfVectorizer, CountVectorizer\n",
    "from sklearn.preprocessing import normalize\n",
    "from sklearn import svm\n",
    "from sklearn.naive_bayes import MultinomialNB,GaussianNB\n",
    "from sklearn.metrics import accuracy_score\n",
    "from sklearn.metrics import confusion_matrix,classification_report, ConfusionMatrixDisplay\n",
    "\n",
    "# Packages for visuals\n",
    "import matplotlib.pyplot as plt\n",
    "import seaborn as sns; sns.set(font_scale=1.2)"
   ]
  },
  {
   "cell_type": "code",
   "execution_count": 2,
   "metadata": {},
   "outputs": [
    {
     "data": {
      "text/html": [
       "<div>\n",
       "<style scoped>\n",
       "    .dataframe tbody tr th:only-of-type {\n",
       "        vertical-align: middle;\n",
       "    }\n",
       "\n",
       "    .dataframe tbody tr th {\n",
       "        vertical-align: top;\n",
       "    }\n",
       "\n",
       "    .dataframe thead th {\n",
       "        text-align: right;\n",
       "    }\n",
       "</style>\n",
       "<table border=\"1\" class=\"dataframe\">\n",
       "  <thead>\n",
       "    <tr style=\"text-align: right;\">\n",
       "      <th></th>\n",
       "      <th>sentiment</th>\n",
       "      <th>STEMMED</th>\n",
       "      <th>label_encoder</th>\n",
       "    </tr>\n",
       "  </thead>\n",
       "  <tbody>\n",
       "    <tr>\n",
       "      <th>0</th>\n",
       "      <td>-1</td>\n",
       "      <td>ketawa jelek banget</td>\n",
       "      <td>negatif</td>\n",
       "    </tr>\n",
       "    <tr>\n",
       "      <th>1</th>\n",
       "      <td>1</td>\n",
       "      <td>request foto ktp pakai filter ig muka deket ba...</td>\n",
       "      <td>netral</td>\n",
       "    </tr>\n",
       "    <tr>\n",
       "      <th>2</th>\n",
       "      <td>1</td>\n",
       "      <td>nyoba pake kamera analog hasil jelek sebel sus...</td>\n",
       "      <td>netral</td>\n",
       "    </tr>\n",
       "    <tr>\n",
       "      <th>3</th>\n",
       "      <td>-1</td>\n",
       "      <td>nickname jelek anjing</td>\n",
       "      <td>negatif</td>\n",
       "    </tr>\n",
       "    <tr>\n",
       "      <th>4</th>\n",
       "      <td>1</td>\n",
       "      <td>jelek</td>\n",
       "      <td>netral</td>\n",
       "    </tr>\n",
       "    <tr>\n",
       "      <th>5</th>\n",
       "      <td>-1</td>\n",
       "      <td>emang udah jelek jelek pake banget banget kali</td>\n",
       "      <td>negatif</td>\n",
       "    </tr>\n",
       "    <tr>\n",
       "      <th>6</th>\n",
       "      <td>1</td>\n",
       "      <td>sayang banget provider tri sinyal jelek banget...</td>\n",
       "      <td>netral</td>\n",
       "    </tr>\n",
       "    <tr>\n",
       "      <th>7</th>\n",
       "      <td>1</td>\n",
       "      <td>halo tolong timeline hpku cemplung wc speakern...</td>\n",
       "      <td>netral</td>\n",
       "    </tr>\n",
       "    <tr>\n",
       "      <th>8</th>\n",
       "      <td>1</td>\n",
       "      <td>cewe samain ikan aja disamain sam kucing gapun...</td>\n",
       "      <td>netral</td>\n",
       "    </tr>\n",
       "    <tr>\n",
       "      <th>9</th>\n",
       "      <td>-1</td>\n",
       "      <td>jelek bangett</td>\n",
       "      <td>negatif</td>\n",
       "    </tr>\n",
       "  </tbody>\n",
       "</table>\n",
       "</div>"
      ],
      "text/plain": [
       "   sentiment                                            STEMMED label_encoder\n",
       "0         -1                                ketawa jelek banget       negatif\n",
       "1          1  request foto ktp pakai filter ig muka deket ba...        netral\n",
       "2          1  nyoba pake kamera analog hasil jelek sebel sus...        netral\n",
       "3         -1                              nickname jelek anjing       negatif\n",
       "4          1                                              jelek        netral\n",
       "5         -1     emang udah jelek jelek pake banget banget kali       negatif\n",
       "6          1  sayang banget provider tri sinyal jelek banget...        netral\n",
       "7          1  halo tolong timeline hpku cemplung wc speakern...        netral\n",
       "8          1  cewe samain ikan aja disamain sam kucing gapun...        netral\n",
       "9         -1                                      jelek bangett       negatif"
      ]
     },
     "execution_count": 2,
     "metadata": {},
     "output_type": "execute_result"
    }
   ],
   "source": [
    "df = pd.read_csv('dataset/datatweet.csv')\n",
    "df.head(10)"
   ]
  },
  {
   "cell_type": "code",
   "execution_count": 35,
   "metadata": {},
   "outputs": [
    {
     "data": {
      "text/plain": [
       "<bound method NDFrame.describe of      sentiment                                            STEMMED  \\\n",
       "0           -1                                ketawa jelek banget   \n",
       "1            1  request foto ktp pakai filter ig muka deket ba...   \n",
       "2            1  nyoba pake kamera analog hasil jelek sebel sus...   \n",
       "3           -1                              nickname jelek anjing   \n",
       "4            1                                              jelek   \n",
       "..         ...                                                ...   \n",
       "836          1                                    suka aneh aneeh   \n",
       "837          1                       pikir aneh baik pawang hujan   \n",
       "838          1        kalo rini suka aneh suka kadang kayak nenek   \n",
       "839          1                               otak emang suka aneh   \n",
       "840          1  aneh cewek rela jual alesan nya bayar kuliah k...   \n",
       "\n",
       "    label_encoder  \n",
       "0         negatif  \n",
       "1          netral  \n",
       "2          netral  \n",
       "3         negatif  \n",
       "4          netral  \n",
       "..            ...  \n",
       "836        netral  \n",
       "837        netral  \n",
       "838        netral  \n",
       "839        netral  \n",
       "840        netral  \n",
       "\n",
       "[841 rows x 3 columns]>"
      ]
     },
     "execution_count": 35,
     "metadata": {},
     "output_type": "execute_result"
    }
   ],
   "source": [
    "df.describe"
   ]
  },
  {
   "cell_type": "code",
   "execution_count": 3,
   "metadata": {},
   "outputs": [
    {
     "data": {
      "text/plain": [
       "sentiment         int64\n",
       "STEMMED          object\n",
       "label_encoder    object\n",
       "dtype: object"
      ]
     },
     "execution_count": 3,
     "metadata": {},
     "output_type": "execute_result"
    }
   ],
   "source": [
    "df.dtypes"
   ]
  },
  {
   "cell_type": "code",
   "execution_count": 4,
   "metadata": {},
   "outputs": [],
   "source": [
    "# Definisi X dan y\n",
    "X = df['STEMMED']\n",
    "y = df['label_encoder']"
   ]
  },
  {
   "cell_type": "markdown",
   "metadata": {},
   "source": [
    "## pembobotan kata"
   ]
  },
  {
   "cell_type": "code",
   "execution_count": 5,
   "metadata": {},
   "outputs": [
    {
     "name": "stdout",
     "output_type": "stream",
     "text": [
      "IF-IDF <class 'scipy.sparse._csr.csr_matrix'> (841, 2241)\n"
     ]
    }
   ],
   "source": [
    "# TF IDF Vectorizer\n",
    "\n",
    "\n",
    "vect = TfidfVectorizer(binary=True)\n",
    "X_tf = vect.fit_transform(X)\n",
    "\n",
    "print(\"IF-IDF\", type(X_tf), X_tf.shape)\n"
   ]
  },
  {
   "cell_type": "code",
   "execution_count": 6,
   "metadata": {},
   "outputs": [
    {
     "data": {
      "text/plain": [
       "<841x2241 sparse matrix of type '<class 'numpy.float64'>'\n",
       "\twith 5077 stored elements in Compressed Sparse Row format>"
      ]
     },
     "execution_count": 6,
     "metadata": {},
     "output_type": "execute_result"
    }
   ],
   "source": [
    "X_tf"
   ]
  },
  {
   "cell_type": "code",
   "execution_count": 7,
   "metadata": {},
   "outputs": [
    {
     "name": "stdout",
     "output_type": "stream",
     "text": [
      "2241\n"
     ]
    }
   ],
   "source": [
    "#menampilkan jumlah kata yang term\n",
    "print(len(vect.vocabulary_))"
   ]
  },
  {
   "cell_type": "code",
   "execution_count": 8,
   "metadata": {},
   "outputs": [
    {
     "data": {
      "text/plain": [
       "{'ketawa': 998,\n",
       " 'jelek': 880,\n",
       " 'banget': 187,\n",
       " 'request': 1708,\n",
       " 'foto': 601,\n",
       " 'ktp': 1054,\n",
       " 'pakai': 1532,\n",
       " 'filter': 590,\n",
       " 'ig': 796,\n",
       " 'muka': 1314,\n",
       " 'deket': 454,\n",
       " 'kamera': 939,\n",
       " 'njir': 1435,\n",
       " 'nyoba': 1475,\n",
       " 'pake': 1533,\n",
       " 'analog': 88,\n",
       " 'hasil': 740,\n",
       " 'sebel': 1785,\n",
       " 'susah': 1952,\n",
       " 'yak': 2219,\n",
       " 'nickname': 1426,\n",
       " 'anjing': 108,\n",
       " 'emang': 548,\n",
       " 'udah': 2130,\n",
       " 'kali': 930,\n",
       " 'sayang': 1774,\n",
       " 'provider': 1650,\n",
       " 'tri': 2087,\n",
       " 'sinyal': 1865,\n",
       " 'suka': 1941,\n",
       " 'trouble': 2092,\n",
       " 'marah': 1210,\n",
       " 'halo': 718,\n",
       " 'tolong': 2078,\n",
       " 'timeline': 2058,\n",
       " 'hpku': 776,\n",
       " 'cemplung': 371,\n",
       " 'wc': 2195,\n",
       " 'speakernya': 1905,\n",
       " 'gimana': 680,\n",
       " 'cewe': 378,\n",
       " 'samain': 1754,\n",
       " 'ikan': 800,\n",
       " 'aja': 34,\n",
       " 'disamain': 491,\n",
       " 'sam': 1751,\n",
       " 'kucing': 1059,\n",
       " 'gapunya': 640,\n",
       " 'akal': 42,\n",
       " 'analogi': 89,\n",
       " 'bangett': 188,\n",
       " 'iya': 843,\n",
       " 'bodo': 305,\n",
       " 'cek': 365,\n",
       " 'komen': 1027,\n",
       " 'ava': 143,\n",
       " 'ngambek': 1375,\n",
       " 'uridu': 2155,\n",
       " 'umur': 2141,\n",
       " 'hidup': 761,\n",
       " 'dasar': 440,\n",
       " 'handsfree': 725,\n",
       " 'turut': 2112,\n",
       " 'mahal': 1175,\n",
       " 'itu': 841,\n",
       " 'tahan': 1962,\n",
       " 'product': 1643,\n",
       " 'nya': 1455,\n",
       " 'gagal': 618,\n",
       " 'meme': 1240,\n",
       " 'mu': 1309,\n",
       " 'maxim': 1230,\n",
       " 'takut': 1971,\n",
       " 'dpt': 516,\n",
       " 'nama': 1341,\n",
       " 'rating': 1684,\n",
       " 'kaya': 959,\n",
       " 'usaha': 2157,\n",
       " 'tuhan': 2099,\n",
       " 'orang': 1508,\n",
       " 'pasrah': 1555,\n",
       " 'film': 589,\n",
       " 'plot': 1616,\n",
       " 'twistnya': 2119,\n",
       " 'rasa': 1681,\n",
       " 'twist': 2118,\n",
       " 'endingnya': 554,\n",
       " 'gantung': 636,\n",
       " 'maksa': 1186,\n",
       " 'ribut': 1711,\n",
       " 'nan': 1346,\n",
       " 'gendut': 663,\n",
       " 'gamau': 623,\n",
       " 'diet': 477,\n",
       " 'kah': 924,\n",
       " 'the': 2037,\n",
       " 'real': 1689,\n",
       " 'insecure': 820,\n",
       " 'oran': 1507,\n",
       " 'idk': 793,\n",
       " 'basically': 206,\n",
       " 'bawa': 211,\n",
       " 'agama': 27,\n",
       " 'dijelasin': 482,\n",
       " 'reply': 1705,\n",
       " 'malu': 1194,\n",
       " 'ngetwit': 1407,\n",
       " 'tulis': 2104,\n",
       " 'baca': 156,\n",
       " 'im': 805,\n",
       " 'so': 1886,\n",
       " 'sorry': 1902,\n",
       " 'ngomongin': 1418,\n",
       " 'cursing': 421,\n",
       " 'nmx': 1437,\n",
       " 'isu': 836,\n",
       " 'bangkang': 190,\n",
       " 'pendek': 1574,\n",
       " 'pikir': 1598,\n",
       " 'anak': 87,\n",
       " 'diginiin': 478,\n",
       " 'nang': 1348,\n",
       " 'lawa': 1105,\n",
       " 'playable': 1613,\n",
       " 'undur': 2146,\n",
       " 'kayak': 960,\n",
       " 'wibu': 2201,\n",
       " 'kalo': 933,\n",
       " 'dark': 439,\n",
       " 'mode': 1293,\n",
       " 'tampil': 1977,\n",
       " 'gituu': 686,\n",
       " 'warna': 2190,\n",
       " 'masuk': 1221,\n",
       " 'pilih': 1600,\n",
       " 'estetika': 566,\n",
       " 'typingnya': 2124,\n",
       " 'hmm': 768,\n",
       " 'betull': 262,\n",
       " 'cuaca': 412,\n",
       " 'flu': 596,\n",
       " 'narasi': 1352,\n",
       " 'maaf': 1171,\n",
       " 'hes': 757,\n",
       " 'human': 784,\n",
       " 'too': 2080,\n",
       " 'woii': 2211,\n",
       " 'gapernah': 639,\n",
       " 'prny': 1642,\n",
       " 'anjay': 104,\n",
       " 'cowo': 405,\n",
       " 'argumen': 126,\n",
       " 'opini': 1502,\n",
       " 'replies': 1704,\n",
       " 'tweet': 2116,\n",
       " 'huhu': 780,\n",
       " 'sebenernya': 1786,\n",
       " 'kasi': 950,\n",
       " 'liat': 1135,\n",
       " 'zuber': 2239,\n",
       " 'goh': 693,\n",
       " 'shem': 1844,\n",
       " 'drawnya': 518,\n",
       " 'bener': 246,\n",
       " 'rumah': 1729,\n",
       " 'dei': 452,\n",
       " 'geleng': 658,\n",
       " 'last': 1103,\n",
       " 'scene': 1782,\n",
       " 'spill': 1912,\n",
       " 'duluan': 525,\n",
       " 'ituu': 842,\n",
       " 'agakny': 26,\n",
       " 'akun': 52,\n",
       " 'ar': 124,\n",
       " 'kena': 985,\n",
       " 'limit': 1140,\n",
       " 'jaring': 868,\n",
       " 'miskin': 1286,\n",
       " 'kultural': 1066,\n",
       " 'bangsat': 194,\n",
       " 'demit': 457,\n",
       " 'samaa': 1753,\n",
       " 'kak': 925,\n",
       " 'wifinya': 2202,\n",
       " 'apps': 122,\n",
       " 'kitabmainin': 1015,\n",
       " 'iyasih': 845,\n",
       " 'kao': 944,\n",
       " 'substatnya': 1934,\n",
       " 'bagus': 166,\n",
       " 'substat': 1933,\n",
       " 'khawatir': 1002,\n",
       " 'mimpi': 1275,\n",
       " 'cantik': 354,\n",
       " 'bikin': 273,\n",
       " 'pusing': 1661,\n",
       " 'pr': 1634,\n",
       " 'bales': 180,\n",
       " 'bucinan': 326,\n",
       " 'alas': 60,\n",
       " 'timnas': 2059,\n",
       " 'main': 1179,\n",
       " 'kalimantan': 931,\n",
       " 'akses': 48,\n",
       " 'latih': 1104,\n",
       " 'stad': 1918,\n",
       " 'gausah': 648,\n",
       " 'nganggur': 1377,\n",
       " 'taun': 1994,\n",
       " 'gara': 641,\n",
       " 'kelas': 974,\n",
       " 'nilai': 1433,\n",
       " 'item': 840,\n",
       " 'putih': 1662,\n",
       " 'copyan': 403,\n",
       " 'roxana': 1725,\n",
       " 'kambek': 937,\n",
       " 'igku': 797,\n",
       " 'post': 1629,\n",
       " 'story': 1924,\n",
       " 'video': 2171,\n",
       " 'hp': 775,\n",
       " 'full': 603,\n",
       " 'layar': 1108,\n",
       " 'gepeng': 667,\n",
       " 'senggol': 1819,\n",
       " 'haji': 716,\n",
       " 'kritik': 1050,\n",
       " 'nyinyir': 1473,\n",
       " 'tim': 2055,\n",
       " 'serius': 1832,\n",
       " 'gadaa': 615,\n",
       " 'niat': 1424,\n",
       " 'like': 1139,\n",
       " 'nyindir': 1472,\n",
       " 'or': 1506,\n",
       " 'something': 1898,\n",
       " 'ngapa': 1380,\n",
       " 'singgung': 1862,\n",
       " 'baper': 201,\n",
       " 'leogirl': 1126,\n",
       " 'salah': 1748,\n",
       " 'allah': 71,\n",
       " 'gila': 678,\n",
       " 'replynya': 1706,\n",
       " 'mash': 1217,\n",
       " 'seks': 1798,\n",
       " 'otak': 1514,\n",
       " 'manusia': 1209,\n",
       " 'little': 1147,\n",
       " 'bit': 291,\n",
       " 'shock': 1848,\n",
       " 'badak': 161,\n",
       " 'kenal': 986,\n",
       " 'typo': 2125,\n",
       " 'males': 1192,\n",
       " 'on': 1495,\n",
       " 'sana': 1762,\n",
       " 'hawa': 745,\n",
       " 'mana': 1199,\n",
       " 'ajak': 37,\n",
       " 'boro': 312,\n",
       " 'langsung': 1096,\n",
       " 'tinggal': 2063,\n",
       " 'alesannya': 63,\n",
       " 'nolak': 1440,\n",
       " 'gausa': 647,\n",
       " 'ah': 28,\n",
       " 'stress': 1926,\n",
       " 'beneran': 247,\n",
       " 'huruf': 785,\n",
       " 'spicles': 1911,\n",
       " 'sebut': 1788,\n",
       " 'mati': 1226,\n",
       " 'terror': 2029,\n",
       " 'maling': 1193,\n",
       " 'telpon': 2007,\n",
       " 'wassap': 2191,\n",
       " 'nyala': 1456,\n",
       " 'internetnya': 823,\n",
       " 'bunyiin': 340,\n",
       " 'sakit': 1747,\n",
       " 'to': 2074,\n",
       " 'sial': 1851,\n",
       " 'benci': 242,\n",
       " 'lemah': 1121,\n",
       " 'sad': 1741,\n",
       " 'darah': 436,\n",
       " 'nyali': 1459,\n",
       " 'bacod': 158,\n",
       " 'rabies': 1667,\n",
       " 'hina': 764,\n",
       " 'ulama': 2134,\n",
       " 'banci': 184,\n",
       " 'laknat': 1088,\n",
       " 'sok': 1888,\n",
       " 'an': 86,\n",
       " 'ngomong': 1417,\n",
       " 'islam': 833,\n",
       " 'maluin': 1195,\n",
       " 'aneh': 96,\n",
       " 'idup': 794,\n",
       " 'tambahin': 1973,\n",
       " 'dih': 479,\n",
       " 'trauma': 2085,\n",
       " 'ui': 2131,\n",
       " 'undip': 2145,\n",
       " 'tamggal': 1975,\n",
       " 'jam': 855,\n",
       " 'kesel': 996,\n",
       " 'temen': 2010,\n",
       " 'gay': 650,\n",
       " 'cium': 394,\n",
       " 'mulu': 1317,\n",
       " 'moga': 1296,\n",
       " 'lele': 1120,\n",
       " 'jiwa': 891,\n",
       " 'ngurusin': 1421,\n",
       " 'sexualitas': 1836,\n",
       " 'get': 673,\n",
       " 'hell': 751,\n",
       " 'out': 1517,\n",
       " 'kudu': 1061,\n",
       " 'kuras': 1071,\n",
       " 'mengonggong': 1250,\n",
       " 'pecah': 1565,\n",
       " 'belah': 236,\n",
       " 'rakyat': 1674,\n",
       " 'qodari': 1665,\n",
       " 'sumpah': 1945,\n",
       " 'inceranku': 810,\n",
       " 'dapet': 434,\n",
       " 'game': 625,\n",
       " 'tetep': 2034,\n",
       " 'tepuk': 2022,\n",
       " 'tangan': 1982,\n",
       " 'sedih': 1790,\n",
       " 'motivasi': 1305,\n",
       " 'bocil': 304,\n",
       " 'buka': 327,\n",
       " 'paksa': 1535,\n",
       " 'pintu': 1607,\n",
       " 'mobil': 1292,\n",
       " 'ampe': 84,\n",
       " 'alarm': 59,\n",
       " 'bunyi': 339,\n",
       " 'abis': 5,\n",
       " 'lari': 1101,\n",
       " 'bajing': 175,\n",
       " 'jimin': 887,\n",
       " 'hate': 742,\n",
       " 'club': 395,\n",
       " 'beda': 227,\n",
       " 'pengen': 1576,\n",
       " 'kasar': 948,\n",
       " 'sedia': 1789,\n",
       " 'hubung': 778,\n",
       " 'kondisi': 1031,\n",
       " 'operasi': 1500,\n",
       " 'tumor': 2107,\n",
       " 'payudara': 1561,\n",
       " 'butuh': 344,\n",
       " 'donor': 509,\n",
       " 'kakak': 926,\n",
       " 'syarat': 1955,\n",
       " 'sehat': 1793,\n",
       " 'vaksin': 2163,\n",
       " 'lengkap': 1124,\n",
       " 'berat': 255,\n",
       " 'min': 1276,\n",
       " 'kg': 1001,\n",
       " 'ti': 2042,\n",
       " 'sek': 1795,\n",
       " 'babi': 154,\n",
       " 'bingung': 283,\n",
       " 'ahh': 29,\n",
       " 'ngentot': 1400,\n",
       " 'faakk': 572,\n",
       " 'nyalahin': 1457,\n",
       " 'galbugalau': 622,\n",
       " 'brutal': 321,\n",
       " 'musnah': 1329,\n",
       " 'setan': 1834,\n",
       " 'sebentar': 1787,\n",
       " 'kurus': 1074,\n",
       " 'tidur': 2047,\n",
       " 'larut': 1102,\n",
       " 'malam': 1191,\n",
       " 'gin': 681,\n",
       " 'sender': 1817,\n",
       " 'tebengin': 1999,\n",
       " 'eh': 537,\n",
       " 'makan': 1182,\n",
       " 'bunda': 337,\n",
       " 'mrpro': 1308,\n",
       " 'bantu': 197,\n",
       " 'atas': 136,\n",
       " 'ganggu': 631,\n",
       " 'mkan': 1288,\n",
       " 'blh': 298,\n",
       " 'konsumsi': 1038,\n",
       " 'usia': 2159,\n",
       " 'thun': 2041,\n",
       " 'lihat': 1138,\n",
       " 'bentuk': 251,\n",
       " 'tubuh': 2097,\n",
       " 'dada': 425,\n",
       " 'pundak': 1656,\n",
       " 'gilir': 679,\n",
       " 'perut': 1595,\n",
       " 'bawah': 212,\n",
       " 'hamil': 722,\n",
       " 'kasihan': 952,\n",
       " 'dompet': 507,\n",
       " 'krempeng': 1048,\n",
       " 'permisi': 1592,\n",
       " 'gering': 670,\n",
       " 'gaenak': 617,\n",
       " 'badan': 162,\n",
       " 'kuru': 1073,\n",
       " 'inti': 824,\n",
       " 'apa': 118,\n",
       " 'nyerang': 1468,\n",
       " 'batin': 210,\n",
       " 'lsm': 1158,\n",
       " 'dki': 496,\n",
       " 'lepas': 1127,\n",
       " 'saham': 1744,\n",
       " 'bir': 287,\n",
       " 'gemuk': 661,\n",
       " 'openfollow': 1499,\n",
       " 'for': 599,\n",
       " 'rp': 1726,\n",
       " 'oprasi': 1504,\n",
       " 'sedot': 1791,\n",
       " 'lemak': 1122,\n",
       " 'menit': 1251,\n",
       " 'rl': 1722,\n",
       " 'ahyougnk': 31,\n",
       " 'poto': 1632,\n",
       " 'mikirnya': 1270,\n",
       " 'daritadi': 437,\n",
       " 'ngetawain': 1406,\n",
       " 'ciri': 392,\n",
       " 'tunggu': 2109,\n",
       " 'kiris': 1014,\n",
       " 'kiri': 1013,\n",
       " 'kat': 954,\n",
       " 'anda': 92,\n",
       " 'pola': 1621,\n",
       " 'kacau': 914,\n",
       " 'sempat': 1811,\n",
       " 'mental': 1253,\n",
       " 'lupa': 1168,\n",
       " 'ngaku': 1374,\n",
       " 'asa': 130,\n",
       " 'gitu': 684,\n",
       " 'ditakoni': 493,\n",
       " 'ngene': 1398,\n",
       " 'mbe': 1232,\n",
       " 'konco': 1030,\n",
       " 'gr': 702,\n",
       " 'cita': 393,\n",
       " 'audrey': 140,\n",
       " 'celana': 367,\n",
       " 'gaada': 608,\n",
       " 'muat': 1311,\n",
       " 'uyy': 2162,\n",
       " 'dikatain': 483,\n",
       " 'naikin': 1337,\n",
       " 'nii': 1429,\n",
       " 'doain': 502,\n",
       " 'yaa': 2217,\n",
       " 'cepet': 374,\n",
       " 'naikk': 1338,\n",
       " 'khilaf': 1005,\n",
       " 'tengok': 2018,\n",
       " 'noreen': 1444,\n",
       " 'cakap': 351,\n",
       " 'jer': 883,\n",
       " 'la': 1079,\n",
       " 'ind': 811,\n",
       " 'viggo': 2173,\n",
       " 'julang': 908,\n",
       " 'tiang': 2044,\n",
       " 'listrik': 1145,\n",
       " 'coba': 396,\n",
       " 'mohon': 1297,\n",
       " 'bengkok': 249,\n",
       " 'kriteria': 1049,\n",
       " 'masee': 1216,\n",
       " 'zahin': 2232,\n",
       " 'tgh': 2035,\n",
       " 'lakon': 1089,\n",
       " 'zoo': 2238,\n",
       " 'pegang': 1570,\n",
       " 'ular': 2136,\n",
       " 'ulat': 2137,\n",
       " 'getah': 674,\n",
       " 'ambil': 81,\n",
       " 'gambar': 624,\n",
       " 'yanan': 2223,\n",
       " 'ttg': 2095,\n",
       " 'body': 307,\n",
       " 'positivity': 1628,\n",
       " 'jel': 877,\n",
       " 'bosen': 314,\n",
       " 'yakaann': 2220,\n",
       " 'ulang': 2135,\n",
       " 'buat': 325,\n",
       " 'nabilahjkt': 1335,\n",
       " 'lucu': 1160,\n",
       " 'om': 1493,\n",
       " 'ngemesin': 1396,\n",
       " 'lucuu': 1162,\n",
       " 'benyak': 252,\n",
       " 'mikir': 1267,\n",
       " 'kalori': 934,\n",
       " 'kea': 963,\n",
       " 'capekk': 358,\n",
       " 'beli': 238,\n",
       " 'baju': 176,\n",
       " 'bilang': 275,\n",
       " 'bukti': 329,\n",
       " 'langsing': 1095,\n",
       " 'konsultasi': 1037,\n",
       " 'ahli': 30,\n",
       " 'pin': 1603,\n",
       " 'bba': 218,\n",
       " 'no': 1438,\n",
       " 'nyukur': 1478,\n",
       " 'tau': 1991,\n",
       " 'hernia': 756,\n",
       " 'bulu': 333,\n",
       " 'lebat': 1113,\n",
       " 'mampus': 1198,\n",
       " 'nyebelin': 1466,\n",
       " 'mukanny': 1315,\n",
       " 'definisi': 451,\n",
       " 'indra': 814,\n",
       " 'bekti': 235,\n",
       " 'nyeret': 1469,\n",
       " 'lumba': 1167,\n",
       " 'suap': 1931,\n",
       " 'lezat': 1133,\n",
       " 'ejek': 538,\n",
       " 'men': 1242,\n",
       " 'sahabat': 1743,\n",
       " 'chouji': 383,\n",
       " 'grey': 703,\n",
       " 'ayam': 146,\n",
       " 'balado': 179,\n",
       " 'ijo': 799,\n",
       " 'merah': 1257,\n",
       " 'bakar': 177,\n",
       " 'cincang': 390,\n",
       " 'cumi': 417,\n",
       " 'kikil': 1007,\n",
       " 'jarang': 865,\n",
       " 'vpn': 2179,\n",
       " 'error': 565,\n",
       " 'yaallah': 2218,\n",
       " 'gatau': 645,\n",
       " 'konsisten': 1036,\n",
       " 'ala': 55,\n",
       " 'dendam': 458,\n",
       " 'ngatain': 1384,\n",
       " 'benerr': 248,\n",
       " 'kasein': 949,\n",
       " 'nitrat': 1434,\n",
       " 'dindaa': 484,\n",
       " 'ie': 795,\n",
       " 'bangke': 191,\n",
       " 'iii': 798,\n",
       " 'turunin': 2111,\n",
       " 'mala': 1190,\n",
       " 'transfer': 2082,\n",
       " 'tolak': 2076,\n",
       " 'ras': 1680,\n",
       " 'nyasar': 1464,\n",
       " 'blom': 299,\n",
       " 'meng': 1248,\n",
       " 'endut': 555,\n",
       " 'mun': 1318,\n",
       " 'nukar': 1451,\n",
       " 'pasar': 1554,\n",
       " 'tikung': 2053,\n",
       " 'jembatan': 881,\n",
       " 'mesjid': 1263,\n",
       " 'nasi': 1354,\n",
       " 'muntah': 1324,\n",
       " 'biar': 264,\n",
       " 'seha': 1792,\n",
       " 'wanita': 2187,\n",
       " 'pria': 1639,\n",
       " 'rekening': 1697,\n",
       " 'jomblo': 899,\n",
       " 'temenku': 2011,\n",
       " 'ketemu': 1000,\n",
       " 'selalu': 1801,\n",
       " 'ngeluh': 1393,\n",
       " 'sadar': 1742,\n",
       " 'hadap': 711,\n",
       " 'ko': 1021,\n",
       " 'ucul': 2128,\n",
       " 'ngakak': 1373,\n",
       " 'anjer': 106,\n",
       " 'cebol': 363,\n",
       " 'boongin': 311,\n",
       " 'tauk': 1993,\n",
       " 'ndilalah': 1357,\n",
       " 'biyen': 292,\n",
       " 'gek': 656,\n",
       " 'medheng': 1234,\n",
       " 'thukul': 2040,\n",
       " 'rabuk': 1668,\n",
       " 'karo': 947,\n",
       " 'saiki': 1745,\n",
       " 'jebolane': 874,\n",
       " 'akeh': 44,\n",
       " 'babelbas': 153,\n",
       " 'moko': 1298,\n",
       " 'cimi': 389,\n",
       " 'bulet': 332,\n",
       " 'grogi': 704,\n",
       " 'meong': 1256,\n",
       " 'ameen': 83,\n",
       " 'he': 748,\n",
       " 'puber': 1652,\n",
       " 'jadiin': 848,\n",
       " 'tameng': 1974,\n",
       " 'urus': 2156,\n",
       " 'ngerasa': 1402,\n",
       " 'yuk': 2231,\n",
       " 'urai': 2154,\n",
       " 'lebih': 1114,\n",
       " 'teman': 2008,\n",
       " 'bulan': 331,\n",
       " 'duo': 527,\n",
       " 'hobi': 771,\n",
       " 'bayar': 215,\n",
       " 'gaduh': 616,\n",
       " 'benda': 244,\n",
       " 'dlm': 497,\n",
       " 'gendang': 662,\n",
       " 'tali': 1972,\n",
       " 'oversize': 1519,\n",
       " 'tolol': 2077,\n",
       " 'piknik': 1599,\n",
       " 'duit': 523,\n",
       " 'nyalain': 1458,\n",
       " 'rejim': 1696,\n",
       " 'ganti': 635,\n",
       " 'kaga': 921,\n",
       " 'nikmat': 1432,\n",
       " 'tuduh': 2098,\n",
       " 'speech': 1907,\n",
       " 'ngl': 1412,\n",
       " 'mantan': 1206,\n",
       " 'aduh': 23,\n",
       " 'gedeg': 655,\n",
       " 'sama': 1752,\n",
       " 'model': 1294,\n",
       " 'gini': 682,\n",
       " 'menye': 1254,\n",
       " 'gajelas': 620,\n",
       " 'laper': 1098,\n",
       " 'cari': 360,\n",
       " 'bisa': 289,\n",
       " 'nyolong': 1476,\n",
       " 'nana': 1347,\n",
       " 'fansite': 582,\n",
       " 'sleepcall': 1876,\n",
       " 'bahas': 170,\n",
       " 'random': 1677,\n",
       " 'pagi': 1530,\n",
       " 'date': 442,\n",
       " 'gojek': 694,\n",
       " 'indomaret': 812,\n",
       " 'sampe': 1757,\n",
       " 'kasir': 953,\n",
       " 'pedenya': 1568,\n",
       " 'uang': 2126,\n",
       " 'debit': 448,\n",
       " 'alhasil': 67,\n",
       " 'dlu': 498,\n",
       " 'kosan': 1043,\n",
       " 'minggu': 1278,\n",
       " 'katain': 956,\n",
       " 'habis': 710,\n",
       " 'nice': 1425,\n",
       " 'harga': 737,\n",
       " 'rb': 1686,\n",
       " 'pepet': 1581,\n",
       " 'gowes': 701,\n",
       " 'earphone': 531,\n",
       " 'bekas': 233,\n",
       " 'sore': 1900,\n",
       " 'koreksi': 1040,\n",
       " 'gameplay': 626,\n",
       " 'bego': 230,\n",
       " 'wajib': 2185,\n",
       " 'sholat': 1849,\n",
       " 'anjingg': 109,\n",
       " 'napa': 1351,\n",
       " 'laku': 1090,\n",
       " 'minyak': 1284,\n",
       " 'goreng': 699,\n",
       " 'nik': 1430,\n",
       " 'jalan': 854,\n",
       " 'memgonggong': 1241,\n",
       " 'tai': 1965,\n",
       " 'politik': 1623,\n",
       " 'identitas': 792,\n",
       " 'ngislami': 1411,\n",
       " 'nyari': 1463,\n",
       " 'ikut': 803,\n",
       " 'kadal': 916,\n",
       " 'ena': 552,\n",
       " 'dua': 519,\n",
       " 'panik': 1543,\n",
       " 'ngajak': 1372,\n",
       " 'warga': 2189,\n",
       " 'base': 204,\n",
       " 'presiden': 1637,\n",
       " 'ngurus': 1420,\n",
       " 'cabe': 350,\n",
       " 'bawang': 213,\n",
       " 'pensiun': 1578,\n",
       " 'archon': 125,\n",
       " 'atur': 139,\n",
       " 'abah': 2,\n",
       " 'zhongli': 2234,\n",
       " 'putus': 1663,\n",
       " 'tenda': 2016,\n",
       " 'bakso': 178,\n",
       " 'negara': 1358,\n",
       " 'kelola': 977,\n",
       " 'jebak': 873,\n",
       " 'hutang': 786,\n",
       " 'nyusahin': 1479,\n",
       " 'snmptn': 1884,\n",
       " 'sbmptn': 1778,\n",
       " 'strada': 1925,\n",
       " 'nonton': 1443,\n",
       " 'konser': 1035,\n",
       " 'ampun': 85,\n",
       " 'libur': 1136,\n",
       " 'melu': 1237,\n",
       " 'alure': 75,\n",
       " 'ae': 25,\n",
       " 'mengko': 1249,\n",
       " 'lek': 1117,\n",
       " 'dadi': 426,\n",
       " 'evaluasi': 569,\n",
       " 'jelasin': 879,\n",
       " 'kalimat': 932,\n",
       " 'paham': 1531,\n",
       " 'cie': 385,\n",
       " 'otw': 1516,\n",
       " 'taruh': 1989,\n",
       " 'nomor': 1441,\n",
       " 'handphone': 724,\n",
       " 'alamat': 57,\n",
       " 'email': 545,\n",
       " 'kendala': 989,\n",
       " 'kini': 1011,\n",
       " 'data': 441,\n",
       " 'biometri': 284,\n",
       " 'heskey': 758,\n",
       " 'morientes': 1304,\n",
       " 'voronin': 2177,\n",
       " 'crouch': 408,\n",
       " 'carroll': 361,\n",
       " 'balotelli': 182,\n",
       " 'benteke': 250,\n",
       " 'lambert': 1093,\n",
       " 'solanke': 1891,\n",
       " 'lord': 1157,\n",
       " 'origi': 1510,\n",
       " 'ayah': 145,\n",
       " 'sosok': 1904,\n",
       " 'kembali': 983,\n",
       " 'ibu': 789,\n",
       " 'hrus': 777,\n",
       " 'irit': 828,\n",
       " 'kuota': 1069,\n",
       " 'ni': 1423,\n",
       " 'download': 513,\n",
       " 'dmd': 500,\n",
       " 'mlu': 1289,\n",
       " 'jdinya': 871,\n",
       " 'boros': 313,\n",
       " 'milidi': 1273,\n",
       " 'rangkum': 1679,\n",
       " 'dunia': 526,\n",
       " 'srilanka': 1916,\n",
       " 'bangkrut': 193,\n",
       " 'gabisa': 611,\n",
       " 'pns': 1620,\n",
       " 'russia': 1734,\n",
       " 'utang': 2161,\n",
       " 'euroclear': 568,\n",
       " 'indon': 813,\n",
       " 'hah': 714,\n",
       " 'ydm': 2225,\n",
       " 'yedam': 2227,\n",
       " 'kuliah': 1063,\n",
       " 'jihoon': 884,\n",
       " 'fansign': 581,\n",
       " 'nurunin': 1453,\n",
       " 'migor': 1266,\n",
       " 'punya': 1657,\n",
       " 'token': 2075,\n",
       " 'ubah': 2127,\n",
       " 'iklim': 802,\n",
       " 'panen': 1540,\n",
       " 'makna': 1185,\n",
       " 'family': 578,\n",
       " 'tarik': 1988,\n",
       " 'naturalisasi': 1355,\n",
       " 'rana': 1676,\n",
       " 'kim': 1009,\n",
       " 'perihal': 1588,\n",
       " 'informasi': 816,\n",
       " 'perlu': 1591,\n",
       " 'klaim': 1017,\n",
       " 'dana': 431,\n",
       " 'jamin': 858,\n",
       " 'unblock': 2142,\n",
       " 'hujan': 781,\n",
       " 'masa': 1214,\n",
       " 'senggang': 1818,\n",
       " 'gantang': 634,\n",
       " 'fokus': 597,\n",
       " 'wagub': 2183,\n",
       " 'st': 1917,\n",
       " 'time': 2057,\n",
       " 'exam': 571,\n",
       " 'sangkut': 1764,\n",
       " 'simpang': 1860,\n",
       " 'selekoh': 1806,\n",
       " 'jpj': 901,\n",
       " 'henti': 752,\n",
       " 'tepi': 2021,\n",
       " 'moody': 1302,\n",
       " 'konfirmasi': 1033,\n",
       " 'rusia': 1733,\n",
       " 'menerus': 1247,\n",
       " 'trial': 2088,\n",
       " 'and': 91,\n",
       " 'tuk': 2101,\n",
       " 'negeri': 1359,\n",
       " 'lolos': 1153,\n",
       " 'snmpn': 1883,\n",
       " 'mandiri': 1202,\n",
       " 'gap': 637,\n",
       " 'year': 2226,\n",
       " 'buah': 324,\n",
       " 'koma': 1026,\n",
       " 'ba': 151,\n",
       " 'it': 839,\n",
       " 'tempuh': 2014,\n",
       " 'titik': 2070,\n",
       " 'jumpa': 910,\n",
       " 'atira': 137,\n",
       " 'jilbab': 886,\n",
       " 'rupiah': 1732,\n",
       " 'selasa': 1803,\n",
       " 'dolar': 505,\n",
       " 'as': 129,\n",
       " 'sariagri': 1770,\n",
       " 'tani': 1986,\n",
       " 'proses': 1648,\n",
       " 'bangun': 195,\n",
       " 'lagi': 1085,\n",
       " 'jatuh': 869,\n",
       " 'suplex': 1949,\n",
       " 'gapapa': 638,\n",
       " 'mantap': 1207,\n",
       " 'anies': 100,\n",
       " 'simak': 1858,\n",
       " 'gx': 709,\n",
       " 'fahan': 574,\n",
       " 'kt': 1052,\n",
       " 'bukit': 328,\n",
       " 'iseng': 830,\n",
       " 'anime': 101,\n",
       " 'favorit': 584,\n",
       " 'singkat': 1863,\n",
       " 'padat': 1529,\n",
       " 'seru': 1833,\n",
       " 'move': 1307,\n",
       " 'lulus': 1165,\n",
       " 'lesen': 1130,\n",
       " 'auto': 142,\n",
       " 'nd': 1356,\n",
       " 'litar': 1146,\n",
       " 'rd': 1687,\n",
       " 'sentil': 1823,\n",
       " 'ego': 536,\n",
       " 'hanum': 729,\n",
       " 'ajar': 38,\n",
       " 'spy': 1915,\n",
       " 'mvnya': 1333,\n",
       " 'modem': 1295,\n",
       " 'smartfren': 1881,\n",
       " 'atap': 135,\n",
       " 'nunggu': 1452,\n",
       " 'terdownload': 2024,\n",
       " 'wta': 2215,\n",
       " 'shoope': 1850,\n",
       " 'sfu': 1839,\n",
       " 'zonauang': 2236,\n",
       " 'zonajajan': 2235,\n",
       " 'tempur': 2015,\n",
       " 'ksatria': 1051,\n",
       " 'pedang': 1566,\n",
       " 'produk': 1644,\n",
       " 'ngevlog': 1408,\n",
       " 'sukses': 1942,\n",
       " 'nyamuk': 1461,\n",
       " 'geplakan': 668,\n",
       " 'adon': 20,\n",
       " 'starter': 1920,\n",
       " 'gatot': 646,\n",
       " 'alias': 68,\n",
       " 'total': 2081,\n",
       " 'nambahin': 1343,\n",
       " 'gula': 705,\n",
       " 'plus': 1618,\n",
       " 'keding': 966,\n",
       " 'puding': 1653,\n",
       " 'aih': 32,\n",
       " 'dichat': 476,\n",
       " 'oa': 1480,\n",
       " 'linenya': 1142,\n",
       " 'daftar': 428,\n",
       " 'tutup': 2114,\n",
       " 'terus': 2030,\n",
       " 'terk': 2027,\n",
       " 'hanya': 730,\n",
       " 'alam': 56,\n",
       " 'motor': 1306,\n",
       " 'titi': 2069,\n",
       " 'cinta': 391,\n",
       " 'galau': 621,\n",
       " 'register': 1694,\n",
       " 'otp': 1515,\n",
       " 'masalah': 1215,\n",
       " 'typing': 2123,\n",
       " 'call': 353,\n",
       " 'cs': 410,\n",
       " 'regist': 1693,\n",
       " 'aplikasi': 120,\n",
       " 'duga': 521,\n",
       " 'kuat': 1056,\n",
       " 'beban': 223,\n",
       " 'keluarga': 978,\n",
       " 'nekat': 1362,\n",
       " 'sewa': 1835,\n",
       " 'kuli': 1062,\n",
       " 'panggul': 1542,\n",
       " 'angkat': 99,\n",
       " 'olahrga': 1491,\n",
       " 'ga': 607,\n",
       " 'ada': 9,\n",
       " 'kyanya': 1078,\n",
       " 'bahagia': 168,\n",
       " 'hilang': 763,\n",
       " 'belum': 241,\n",
       " 'tanggung': 1984,\n",
       " 'selesai': 1807,\n",
       " 'haduh': 713,\n",
       " 'gasadar': 643,\n",
       " 'remaja': 1701,\n",
       " 'mabuk': 1172,\n",
       " 'tahu': 1963,\n",
       " 'semut': 1815,\n",
       " 'magesup': 1174,\n",
       " 'doang': 503,\n",
       " 'anjeng': 105,\n",
       " 'nambah': 1342,\n",
       " 'posisi': 1627,\n",
       " 'ngerepotin': 1403,\n",
       " 'tiktok': 2052,\n",
       " 'hobby': 770,\n",
       " 'gemar': 660,\n",
       " 'sapa': 1766,\n",
       " 'kenapa': 987,\n",
       " 'upah': 2151,\n",
       " 'diriku': 488,\n",
       " 'bayi': 217,\n",
       " 'imunisasi': 808,\n",
       " 'ganda': 629,\n",
       " 'pandemik': 1539,\n",
       " 'army': 127,\n",
       " 'tiktod': 2051,\n",
       " 'alhamdulillah': 66,\n",
       " ...}"
      ]
     },
     "execution_count": 8,
     "metadata": {},
     "output_type": "execute_result"
    }
   ],
   "source": [
    "(vect.vocabulary_)"
   ]
  },
  {
   "cell_type": "markdown",
   "metadata": {},
   "source": [
    "## Splitting Data 80:20"
   ]
  },
  {
   "cell_type": "code",
   "execution_count": 9,
   "metadata": {},
   "outputs": [],
   "source": [
    "# Train Test Split \n",
    "X_train,X_test,y_train,y_test = train_test_split(X_tf.toarray(),y,random_state=3,test_size=0.2)\n",
    "\n"
   ]
  },
  {
   "cell_type": "code",
   "execution_count": 10,
   "metadata": {},
   "outputs": [],
   "source": [
    "y_train.shape\n",
    "df.to_csv('dataset/y_train.csv', index=False)"
   ]
  },
  {
   "cell_type": "code",
   "execution_count": 11,
   "metadata": {},
   "outputs": [],
   "source": [
    "y_test\n",
    "df.to_csv('dataset/y_testing.csv', index=False)"
   ]
  },
  {
   "cell_type": "markdown",
   "metadata": {},
   "source": [
    "## NAIVE BAYES CLASSIFIER"
   ]
  },
  {
   "cell_type": "code",
   "execution_count": 12,
   "metadata": {},
   "outputs": [],
   "source": [
    "# Naive Bayes\n",
    "nb = MultinomialNB()\n",
    "nb.fit(X_train,y_train)\n",
    "predict_NB = nb.predict(X_test)\n"
   ]
  },
  {
   "cell_type": "code",
   "execution_count": 13,
   "metadata": {},
   "outputs": [
    {
     "name": "stdout",
     "output_type": "stream",
     "text": [
      "0.6923076923076923\n"
     ]
    }
   ],
   "source": [
    "print(accuracy_score(y_test, predict_NB))"
   ]
  },
  {
   "cell_type": "code",
   "execution_count": 14,
   "metadata": {},
   "outputs": [
    {
     "data": {
      "text/plain": [
       "(169,)"
      ]
     },
     "execution_count": 14,
     "metadata": {},
     "output_type": "execute_result"
    }
   ],
   "source": [
    "y_test.shape"
   ]
  },
  {
   "cell_type": "markdown",
   "metadata": {},
   "source": [
    "## Perbandingan Karnel Naive Bayes"
   ]
  },
  {
   "cell_type": "code",
   "execution_count": 15,
   "metadata": {},
   "outputs": [
    {
     "name": "stdout",
     "output_type": "stream",
     "text": [
      "              precision    recall  f1-score   support\n",
      "\n",
      "     negatif       0.65      0.45      0.54        66\n",
      "      netral       0.71      0.84      0.77       103\n",
      "\n",
      "    accuracy                           0.69       169\n",
      "   macro avg       0.68      0.65      0.65       169\n",
      "weighted avg       0.69      0.69      0.68       169\n",
      "\n"
     ]
    },
    {
     "data": {
      "image/png": "[encoded data removed]",
      "text/plain": [
       "<Figure size 432x288 with 2 Axes>"
      ]
     },
     "metadata": {
      "needs_background": "light"
     },
     "output_type": "display_data"
    }
   ],
   "source": [
    "from sklearn.metrics import confusion_matrix, ConfusionMatrixDisplay\n",
    "\n",
    "print(classification_report(y_test, predict_NB))\n",
    "\n",
    "ConfusionMatrixDisplay.from_predictions(y_test, predict_NB)\n",
    "plt.title(\"CONFUSION MATRIX NAIVE BAYES\")\n",
    "plt.grid(False)\n",
    "plt.show()"
   ]
  },
  {
   "cell_type": "code",
   "execution_count": 16,
   "metadata": {},
   "outputs": [],
   "source": [
    "from io import StringIO\n",
    "classification = classification_report(y_test, predict_NB)\n",
    "s = StringIO(classification)\n",
    "with open ('dataset/classification_NB.csv', 'w') as f:\n",
    "    for line in s:\n",
    "        f.write(line)"
   ]
  },
  {
   "cell_type": "markdown",
   "metadata": {},
   "source": [
    "## SUPPORT VECTOR MACHINE"
   ]
  },
  {
   "cell_type": "code",
   "execution_count": 17,
   "metadata": {},
   "outputs": [
    {
     "name": "stderr",
     "output_type": "stream",
     "text": [
      "C:\\Users\\ASUS\\AppData\\Local\\Programs\\Python\\Python310\\lib\\site-packages\\sklearn\\svm\\_base.py:301: ConvergenceWarning: Solver terminated early (max_iter=1000).  Consider pre-processing your data with StandardScaler or MinMaxScaler.\n",
      "  warnings.warn(\n"
     ]
    },
    {
     "name": "stdout",
     "output_type": "stream",
     "text": [
      "0.7159763313609467\n"
     ]
    }
   ],
   "source": [
    "#pengujian karnel RBF\n",
    "from sklearn.svm import SVC\n",
    "model = SVC(kernel='rbf', max_iter=1000, C=1000)\n",
    "model.fit(X_train, y_train)\n",
    "predict_rbf = model.predict(X_test)\n",
    "print(accuracy_score(y_test, predict_rbf))"
   ]
  },
  {
   "cell_type": "code",
   "execution_count": 18,
   "metadata": {},
   "outputs": [
    {
     "name": "stdout",
     "output_type": "stream",
     "text": [
      "0.6745562130177515\n"
     ]
    },
    {
     "name": "stderr",
     "output_type": "stream",
     "text": [
      "C:\\Users\\ASUS\\AppData\\Local\\Programs\\Python\\Python310\\lib\\site-packages\\sklearn\\svm\\_base.py:301: ConvergenceWarning: Solver terminated early (max_iter=1000).  Consider pre-processing your data with StandardScaler or MinMaxScaler.\n",
      "  warnings.warn(\n"
     ]
    }
   ],
   "source": [
    "#pengujian karnel Polynomial\n",
    "from sklearn.svm import SVC\n",
    "model = SVC(kernel='poly', max_iter=1000, C=1000)\n",
    "model.fit(X_train, y_train)\n",
    "predict_poly = model.predict(X_test)\n",
    "print(accuracy_score(y_test, predict_poly))"
   ]
  },
  {
   "cell_type": "code",
   "execution_count": 19,
   "metadata": {},
   "outputs": [
    {
     "name": "stderr",
     "output_type": "stream",
     "text": [
      "C:\\Users\\ASUS\\AppData\\Local\\Programs\\Python\\Python310\\lib\\site-packages\\sklearn\\svm\\_base.py:301: ConvergenceWarning: Solver terminated early (max_iter=1000).  Consider pre-processing your data with StandardScaler or MinMaxScaler.\n",
      "  warnings.warn(\n"
     ]
    },
    {
     "name": "stdout",
     "output_type": "stream",
     "text": [
      "0.6982248520710059\n"
     ]
    }
   ],
   "source": [
    "#pengujian karnel Linear\n",
    "from sklearn.svm import SVC\n",
    "model = SVC(kernel='linear', max_iter=1000, C=1000)\n",
    "model.fit(X_train, y_train)\n",
    "predict_SVM = model.predict(X_test)\n",
    "\n",
    "print(accuracy_score(y_test, predict_SVM))"
   ]
  },
  {
   "cell_type": "markdown",
   "metadata": {},
   "source": [
    "## perbandingan Karnel"
   ]
  },
  {
   "cell_type": "code",
   "execution_count": 33,
   "metadata": {},
   "outputs": [
    {
     "data": {
      "image/png": "[encoded data removed]",
      "text/plain": [
       "<Figure size 864x504 with 1 Axes>"
      ]
     },
     "metadata": {
      "needs_background": "light"
     },
     "output_type": "display_data"
    }
   ],
   "source": [
    "x = ['RBF', 'Polynomial','Linear']\n",
    "akurasi = [71, 67,69]\n",
    "colors =['lightskyblue', 'lightcoral']\n",
    "\n",
    "plt.figure(figsize=(12,7))\n",
    "plt.bar(x, akurasi, color=colors) \n",
    "\n",
    "plt.title('Perbandingan akurasi', size=16)\n",
    "plt.xticks(size=12)\n",
    "plt.yticks(size=12)\n",
    "\n",
    "plt.show()"
   ]
  },
  {
   "cell_type": "markdown",
   "metadata": {},
   "source": [
    "## Confusion Matriks SVM"
   ]
  },
  {
   "cell_type": "code",
   "execution_count": 21,
   "metadata": {},
   "outputs": [
    {
     "name": "stdout",
     "output_type": "stream",
     "text": [
      "              precision    recall  f1-score   support\n",
      "\n",
      "     negatif       0.70      0.47      0.56        66\n",
      "      netral       0.72      0.87      0.79       103\n",
      "\n",
      "    accuracy                           0.72       169\n",
      "   macro avg       0.71      0.67      0.68       169\n",
      "weighted avg       0.71      0.72      0.70       169\n",
      "\n"
     ]
    },
    {
     "data": {
      "image/png": "[encoded data removed]",
      "text/plain": [
       "<Figure size 432x288 with 2 Axes>"
      ]
     },
     "metadata": {
      "needs_background": "light"
     },
     "output_type": "display_data"
    }
   ],
   "source": [
    "#accuracy, precision recall F1-score\n",
    "from sklearn.metrics import confusion_matrix, ConfusionMatrixDisplay\n",
    "\n",
    "print(classification_report(y_test, predict_rbf))\n",
    "\n",
    "ConfusionMatrixDisplay.from_predictions(y_test, predict_rbf)\n",
    "plt.title(\"CONFUSION MATRIX SUPPORT VECTOR MACHINE\")\n",
    "plt.grid(False)\n",
    "plt.show()"
   ]
  },
  {
   "cell_type": "code",
   "execution_count": 22,
   "metadata": {},
   "outputs": [],
   "source": [
    "from io import StringIO\n",
    "classification = classification_report(y_test, predict_rbf)\n",
    "s = StringIO(classification)\n",
    "with open ('dataset/classification_SVM.csv', 'w') as f:\n",
    "    for line in s:\n",
    "        f.write(line)"
   ]
  },
  {
   "cell_type": "markdown",
   "metadata": {},
   "source": [
    "# VISUALIASI"
   ]
  },
  {
   "cell_type": "code",
   "execution_count": 23,
   "metadata": {},
   "outputs": [
    {
     "name": "stderr",
     "output_type": "stream",
     "text": [
      "C:\\Users\\ASUS\\AppData\\Local\\Programs\\Python\\Python310\\lib\\site-packages\\seaborn\\_decorators.py:36: FutureWarning: Pass the following variable as a keyword arg: x. From version 0.12, the only valid positional argument will be `data`, and passing other arguments without an explicit keyword will result in an error or misinterpretation.\n",
      "  warnings.warn(\n"
     ]
    },
    {
     "data": {
      "text/plain": [
       "Text(0.5, 1.0, 'Diagram Bar Data Analisis Sentimen')"
      ]
     },
     "execution_count": 23,
     "metadata": {},
     "output_type": "execute_result"
    },
    {
     "data": {
      "image/png": "[encoded data removed]",
      "text/plain": [
       "<Figure size 432x288 with 1 Axes>"
      ]
     },
     "metadata": {
      "needs_background": "light"
     },
     "output_type": "display_data"
    }
   ],
   "source": [
    "#melihat perbandingan sentimen netral dan negatif\n",
    "\n",
    "sns.countplot(df[\"label_encoder\"])\n",
    "plt.xlabel('STEMMED')\n",
    "plt.ylabel('Data')\n",
    "plt.title('Diagram Bar Data Analisis Sentimen')"
   ]
  },
  {
   "cell_type": "code",
   "execution_count": 24,
   "metadata": {},
   "outputs": [
    {
     "data": {
      "image/png": "[encoded data removed]",
      "text/plain": [
       "<Figure size 432x288 with 1 Axes>"
      ]
     },
     "metadata": {},
     "output_type": "display_data"
    }
   ],
   "source": [
    "labels = ['Negative Words', 'Netral Words']\n",
    "qu = [44,56]\n",
    "colors =['lightskyblue', 'lightcoral']\n",
    "plt.pie(qu, labels=labels, colors=colors, autopct='%1.1f%%', shadow=True, startangle=90)\n",
    "\n",
    "plt.axis('equal')\n",
    "plt.show()\n",
    "\n"
   ]
  },
  {
   "cell_type": "code",
   "execution_count": 25,
   "metadata": {},
   "outputs": [
    {
     "name": "stderr",
     "output_type": "stream",
     "text": [
      "C:\\Users\\ASUS\\AppData\\Local\\Programs\\Python\\Python310\\lib\\site-packages\\seaborn\\_decorators.py:36: FutureWarning: Pass the following variable as a keyword arg: x. From version 0.12, the only valid positional argument will be `data`, and passing other arguments without an explicit keyword will result in an error or misinterpretation.\n",
      "  warnings.warn(\n"
     ]
    },
    {
     "data": {
      "text/plain": [
       "Text(0.5, 1.0, 'Diagram Bar Data Analisis Sentimen y training')"
      ]
     },
     "execution_count": 25,
     "metadata": {},
     "output_type": "execute_result"
    },
    {
     "data": {
      "image/png": "[encoded data removed]",
      "text/plain": [
       "<Figure size 432x288 with 1 Axes>"
      ]
     },
     "metadata": {
      "needs_background": "light"
     },
     "output_type": "display_data"
    }
   ],
   "source": [
    "#bar plot untuk data training\n",
    "\n",
    "sns.countplot(y_train)\n",
    "plt.xlabel('Kelas Sentimen')\n",
    "plt.ylabel('Data')\n",
    "plt.title('Diagram Bar Data Analisis Sentimen y training')"
   ]
  },
  {
   "cell_type": "code",
   "execution_count": 26,
   "metadata": {},
   "outputs": [
    {
     "name": "stderr",
     "output_type": "stream",
     "text": [
      "C:\\Users\\ASUS\\AppData\\Local\\Programs\\Python\\Python310\\lib\\site-packages\\seaborn\\_decorators.py:36: FutureWarning: Pass the following variable as a keyword arg: x. From version 0.12, the only valid positional argument will be `data`, and passing other arguments without an explicit keyword will result in an error or misinterpretation.\n",
      "  warnings.warn(\n"
     ]
    },
    {
     "data": {
      "text/plain": [
       "Text(0.5, 1.0, 'Diagram Bar Data Analisis Sentimen untuk y testing')"
      ]
     },
     "execution_count": 26,
     "metadata": {},
     "output_type": "execute_result"
    },
    {
     "data": {
      "image/png": "[encoded data removed]",
      "text/plain": [
       "<Figure size 432x288 with 1 Axes>"
      ]
     },
     "metadata": {
      "needs_background": "light"
     },
     "output_type": "display_data"
    }
   ],
   "source": [
    "#bar plot untuk data test\n",
    "\n",
    "sns.countplot(y_test)\n",
    "plt.xlabel('Kelas Sentimen')\n",
    "plt.ylabel('Data Test')\n",
    "plt.title('Diagram Bar Data Analisis Sentimen untuk y testing')"
   ]
  },
  {
   "cell_type": "code",
   "execution_count": 27,
   "metadata": {},
   "outputs": [
    {
     "name": "stderr",
     "output_type": "stream",
     "text": [
      "C:\\Users\\ASUS\\AppData\\Local\\Programs\\Python\\Python310\\lib\\site-packages\\seaborn\\_decorators.py:36: FutureWarning: Pass the following variable as a keyword arg: x. From version 0.12, the only valid positional argument will be `data`, and passing other arguments without an explicit keyword will result in an error or misinterpretation.\n",
      "  warnings.warn(\n"
     ]
    },
    {
     "data": {
      "text/plain": [
       "Text(0.5, 1.0, 'Diagram Bar Data Analisis Sentimen Naive Bayes')"
      ]
     },
     "execution_count": 27,
     "metadata": {},
     "output_type": "execute_result"
    },
    {
     "data": {
      "image/png": "[encoded data removed]",
      "text/plain": [
       "<Figure size 432x288 with 1 Axes>"
      ]
     },
     "metadata": {
      "needs_background": "light"
     },
     "output_type": "display_data"
    }
   ],
   "source": [
    "#Bar Plot untuk klasifikasi NB\n",
    "\n",
    "sns.countplot(predict_NB)\n",
    "plt.xlabel('Kelas Sentimen ')\n",
    "plt.ylabel('Data')\n",
    "plt.title('Diagram Bar Data Analisis Sentimen Naive Bayes')"
   ]
  },
  {
   "cell_type": "code",
   "execution_count": 28,
   "metadata": {},
   "outputs": [
    {
     "name": "stderr",
     "output_type": "stream",
     "text": [
      "C:\\Users\\ASUS\\AppData\\Local\\Programs\\Python\\Python310\\lib\\site-packages\\seaborn\\_decorators.py:36: FutureWarning: Pass the following variable as a keyword arg: x. From version 0.12, the only valid positional argument will be `data`, and passing other arguments without an explicit keyword will result in an error or misinterpretation.\n",
      "  warnings.warn(\n"
     ]
    },
    {
     "data": {
      "image/png": "[encoded data removed]",
      "text/plain": [
       "<Figure size 432x288 with 1 Axes>"
      ]
     },
     "metadata": {
      "needs_background": "light"
     },
     "output_type": "display_data"
    }
   ],
   "source": [
    "#Bar Plot untuk klasifikasi SVM\n",
    "\n",
    "CategorySVM = predict_SVM\n",
    "sns.countplot(CategorySVM)\n",
    "plt.xlabel('Kelas Sentimen')\n",
    "plt.ylabel('Data')\n",
    "plt.title('Diagram Bar Data Analisis Sentimen SVM')\n",
    "plt.savefig(\"bar_svm.png\")"
   ]
  }
 ],
 "metadata": {
  "interpreter": {
   "hash": "7d04c2ccdc77879c44c0e38a475c5c944666b751d27f26244a0b0bd35fcecd56"
  },
  "kernelspec": {
   "display_name": "Python 3.10.2 64-bit",
   "language": "python",
   "name": "python3"
  },
  "language_info": {
   "codemirror_mode": {
    "name": "ipython",
    "version": 3
   },
   "file_extension": ".py",
   "mimetype": "text/x-python",
   "name": "python",
   "nbconvert_exporter": "python",
   "pygments_lexer": "ipython3",
   "version": "3.10.2"
  },
  "orig_nbformat": 4
 },
 "nbformat": 4,
 "nbformat_minor": 2
}
