{
 "cells": [
  {
   "cell_type": "code",
   "execution_count": 10,
   "metadata": {},
   "outputs": [],
   "source": [
    "import pandas as pd\n",
    "import tweepy\n",
    "import numpy as np"
   ]
  },
  {
   "cell_type": "code",
   "execution_count": null,
   "metadata": {},
   "outputs": [],
   "source": [
    "api_key = 'FKjLX6XAkRequFCZrVwPbCBl2'\n",
    "api_key_secret = 'JcBDRb49KJ8H4TxRs9JqfWPk8KRgVAU4ojzRLFLDar3g3q7y73'\n",
    "\n",
    "# Access Token\n",
    "access_token = '1063918072115806209-svKJSEjnQ02nJGYf4ZSy8ZTbhojMs2'\n",
    "access_token_secret = 'YdxDZiUSZZjU7vGET4q9ZwkUsOyJlHHnqRfgPMuv1bX8X'"
   ]
  },
  {
   "cell_type": "code",
   "execution_count": null,
   "metadata": {},
   "outputs": [],
   "source": [
    "#authentication\n",
    "auth = tweepy.OAuthHandler(api_key,api_key_secret)\n",
    "auth.set_access_token(access_token,access_token_secret)\n",
    "api = tweepy.API(auth,wait_on_rate_limit=True) "
   ]
  },
  {
   "cell_type": "code",
   "execution_count": null,
   "metadata": {},
   "outputs": [],
   "source": [
    "#file csv\n",
    "date = []\n",
    "username = []\n",
    "tweet_text = []\n",
    "keyword = []\n",
    "def search_tweet(items,query):\n",
    "    for tweet in tweepy.Cursor(api.search_tweets,q=f'{query} -filter:retweets',lang='id').items(items):\n",
    "        # csvWriter.writerow([tweet.created_at,tweet.author.screen_name,tweet.text])\n",
    "        date.append(tweet.created_at)\n",
    "        username.append(tweet.author.screen_name)\n",
    "        tweet_text.append(tweet.text)\n",
    "        keyword.append(query)\n",
    "    return pd.DataFrame({'date':date,'username':username,'tweet':tweet_text,'keyword':keyword})\n",
    "\n",
    "#kata_kunci\n",
    "df = search_tweet(items=100, query=\"jelek\")\n",
    "df = search_tweet(items=100, query=\"anjing\")\n",
    "df = search_tweet(items=100, query=\"kurus\")\n",
    "df = search_tweet(items=100, query=\"gendut\")\n",
    "df = search_tweet(items=100, query=\"tolol\")\n",
    "df = search_tweet(items=100, query=\"gagal\")\n",
    "df = search_tweet(items=100, query=\"beban\")\n",
    "df = search_tweet(items=100, query=\"pengecut\")\n",
    "df = search_tweet(items=100, query=\"munafik\")\n",
    "df = search_tweet(items=100, query=\"aneh\")\n",
    "\n",
    "\n",
    "\n"
   ]
  },
  {
   "cell_type": "code",
   "execution_count": null,
   "metadata": {},
   "outputs": [],
   "source": [
    "df.to_csv('dataset/hasil_crawling.csv',encoding='utf-8',index=False)\n",
    "df\n",
    "# df"
   ]
  },
  {
   "cell_type": "code",
   "execution_count": null,
   "metadata": {},
   "outputs": [],
   "source": [
    "#remove tweet duplicate\n",
    "df.drop_duplicates(subset=None, inplace=True)\n"
   ]
  },
  {
   "cell_type": "code",
   "execution_count": 13,
   "metadata": {},
   "outputs": [
    {
     "data": {
      "text/html": [
       "<div>\n",
       "<style scoped>\n",
       "    .dataframe tbody tr th:only-of-type {\n",
       "        vertical-align: middle;\n",
       "    }\n",
       "\n",
       "    .dataframe tbody tr th {\n",
       "        vertical-align: top;\n",
       "    }\n",
       "\n",
       "    .dataframe thead th {\n",
       "        text-align: right;\n",
       "    }\n",
       "</style>\n",
       "<table border=\"1\" class=\"dataframe\">\n",
       "  <thead>\n",
       "    <tr style=\"text-align: right;\">\n",
       "      <th></th>\n",
       "      <th>date</th>\n",
       "      <th>username</th>\n",
       "      <th>tweet</th>\n",
       "      <th>keyword</th>\n",
       "    </tr>\n",
       "  </thead>\n",
       "  <tbody>\n",
       "    <tr>\n",
       "      <th>0</th>\n",
       "      <td>2022-06-28 08:48:50+00:00</td>\n",
       "      <td>ieumaki</td>\n",
       "      <td>cel ketawanya jelek bat https://t.co/csHISa3WwB</td>\n",
       "      <td>jelek</td>\n",
       "    </tr>\n",
       "    <tr>\n",
       "      <th>1</th>\n",
       "      <td>2022-06-28 08:48:41+00:00</td>\n",
       "      <td>imasshana</td>\n",
       "      <td>@convomfs mau req foto ktp pke filter ig deh, ...</td>\n",
       "      <td>jelek</td>\n",
       "    </tr>\n",
       "    <tr>\n",
       "      <th>2</th>\n",
       "      <td>2022-06-28 08:48:35+00:00</td>\n",
       "      <td>junhuicy</td>\n",
       "      <td>Nyoba pake kamera analog dan hasilnya jelek 🥲 ...</td>\n",
       "      <td>jelek</td>\n",
       "    </tr>\n",
       "    <tr>\n",
       "      <th>3</th>\n",
       "      <td>2022-06-28 08:48:33+00:00</td>\n",
       "      <td>melicoww</td>\n",
       "      <td>@cutiebunny04 @convomf jelek kali emotmu itu🤢 ...</td>\n",
       "      <td>jelek</td>\n",
       "    </tr>\n",
       "    <tr>\n",
       "      <th>4</th>\n",
       "      <td>2022-06-28 08:48:31+00:00</td>\n",
       "      <td>cuddlyhwa</td>\n",
       "      <td>keknya nickname w klo di tambah hala jelek anjir</td>\n",
       "      <td>jelek</td>\n",
       "    </tr>\n",
       "    <tr>\n",
       "      <th>5</th>\n",
       "      <td>2022-06-28 08:48:18+00:00</td>\n",
       "      <td>renjunkw</td>\n",
       "      <td>@RnjntrA @huanarenjun Kebetulan ara jelek</td>\n",
       "      <td>jelek</td>\n",
       "    </tr>\n",
       "    <tr>\n",
       "      <th>6</th>\n",
       "      <td>2022-06-28 08:48:05+00:00</td>\n",
       "      <td>C_eunw0_0</td>\n",
       "      <td>beruntung banget cinta itu buta. seandainya bi...</td>\n",
       "      <td>jelek</td>\n",
       "    </tr>\n",
       "    <tr>\n",
       "      <th>7</th>\n",
       "      <td>2022-06-28 08:47:59+00:00</td>\n",
       "      <td>nosyacey</td>\n",
       "      <td>@chioollo emg udh jelek sih tpi itu jeleknya p...</td>\n",
       "      <td>jelek</td>\n",
       "    </tr>\n",
       "    <tr>\n",
       "      <th>8</th>\n",
       "      <td>2022-06-28 08:47:56+00:00</td>\n",
       "      <td>madathestar</td>\n",
       "      <td>aku sayang banget sama provider tri meskipun s...</td>\n",
       "      <td>jelek</td>\n",
       "    </tr>\n",
       "    <tr>\n",
       "      <th>9</th>\n",
       "      <td>2022-06-28 08:47:52+00:00</td>\n",
       "      <td>j23cat</td>\n",
       "      <td>HALO PLS LEWAT TL DONG HPKU KECEMPLUNG DI WC I...</td>\n",
       "      <td>jelek</td>\n",
       "    </tr>\n",
       "  </tbody>\n",
       "</table>\n",
       "</div>"
      ],
      "text/plain": [
       "                        date     username  \\\n",
       "0  2022-06-28 08:48:50+00:00      ieumaki   \n",
       "1  2022-06-28 08:48:41+00:00    imasshana   \n",
       "2  2022-06-28 08:48:35+00:00     junhuicy   \n",
       "3  2022-06-28 08:48:33+00:00     melicoww   \n",
       "4  2022-06-28 08:48:31+00:00    cuddlyhwa   \n",
       "5  2022-06-28 08:48:18+00:00     renjunkw   \n",
       "6  2022-06-28 08:48:05+00:00    C_eunw0_0   \n",
       "7  2022-06-28 08:47:59+00:00     nosyacey   \n",
       "8  2022-06-28 08:47:56+00:00  madathestar   \n",
       "9  2022-06-28 08:47:52+00:00       j23cat   \n",
       "\n",
       "                                               tweet keyword  \n",
       "0    cel ketawanya jelek bat https://t.co/csHISa3WwB   jelek  \n",
       "1  @convomfs mau req foto ktp pke filter ig deh, ...   jelek  \n",
       "2  Nyoba pake kamera analog dan hasilnya jelek 🥲 ...   jelek  \n",
       "3  @cutiebunny04 @convomf jelek kali emotmu itu🤢 ...   jelek  \n",
       "4   keknya nickname w klo di tambah hala jelek anjir   jelek  \n",
       "5          @RnjntrA @huanarenjun Kebetulan ara jelek   jelek  \n",
       "6  beruntung banget cinta itu buta. seandainya bi...   jelek  \n",
       "7  @chioollo emg udh jelek sih tpi itu jeleknya p...   jelek  \n",
       "8  aku sayang banget sama provider tri meskipun s...   jelek  \n",
       "9  HALO PLS LEWAT TL DONG HPKU KECEMPLUNG DI WC I...   jelek  "
      ]
     },
     "execution_count": 13,
     "metadata": {},
     "output_type": "execute_result"
    }
   ],
   "source": [
    "df = pd.read_csv('dataset/hasil_crawling.csv')\n",
    "df.head(10)"
   ]
  },
  {
   "cell_type": "code",
   "execution_count": null,
   "metadata": {},
   "outputs": [],
   "source": []
  }
 ],
 "metadata": {
  "interpreter": {
   "hash": "7d04c2ccdc77879c44c0e38a475c5c944666b751d27f26244a0b0bd35fcecd56"
  },
  "kernelspec": {
   "display_name": "Python 3.10.2 64-bit",
   "language": "python",
   "name": "python3"
  },
  "language_info": {
   "codemirror_mode": {
    "name": "ipython",
    "version": 3
   },
   "file_extension": ".py",
   "mimetype": "text/x-python",
   "name": "python",
   "nbconvert_exporter": "python",
   "pygments_lexer": "ipython3",
   "version": "3.10.2"
  },
  "orig_nbformat": 4
 },
 "nbformat": 4,
 "nbformat_minor": 2
}
